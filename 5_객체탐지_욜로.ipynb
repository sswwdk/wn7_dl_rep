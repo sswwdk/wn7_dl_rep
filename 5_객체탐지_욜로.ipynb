{
 "cells": [
  {
   "cell_type": "markdown",
   "id": "6b8488ee",
   "metadata": {},
   "source": [
    "# YOLO\n",
    "You Only Look Once"
   ]
  },
  {
   "cell_type": "markdown",
   "id": "1c38c2f6",
   "metadata": {},
   "source": [
    "# 객체감지"
   ]
  },
  {
   "cell_type": "code",
   "execution_count": 1,
   "id": "805d0596",
   "metadata": {},
   "outputs": [
    {
     "name": "stdout",
     "output_type": "stream",
     "text": [
      "\n",
      "image 1/1 c:\\mygit\\wn7_dl_rep\\sample.jpg: 448x640 3 persons, 53.0ms\n",
      "Speed: 2.5ms preprocess, 53.0ms inference, 62.5ms postprocess per image at shape (1, 3, 448, 640)\n"
     ]
    },
    {
     "data": {
      "text/plain": [
       "[ultralytics.engine.results.Results object with attributes:\n",
       " \n",
       " boxes: ultralytics.engine.results.Boxes object\n",
       " keypoints: None\n",
       " masks: None\n",
       " names: {0: 'person', 1: 'bicycle', 2: 'car', 3: 'motorcycle', 4: 'airplane', 5: 'bus', 6: 'train', 7: 'truck', 8: 'boat', 9: 'traffic light', 10: 'fire hydrant', 11: 'stop sign', 12: 'parking meter', 13: 'bench', 14: 'bird', 15: 'cat', 16: 'dog', 17: 'horse', 18: 'sheep', 19: 'cow', 20: 'elephant', 21: 'bear', 22: 'zebra', 23: 'giraffe', 24: 'backpack', 25: 'umbrella', 26: 'handbag', 27: 'tie', 28: 'suitcase', 29: 'frisbee', 30: 'skis', 31: 'snowboard', 32: 'sports ball', 33: 'kite', 34: 'baseball bat', 35: 'baseball glove', 36: 'skateboard', 37: 'surfboard', 38: 'tennis racket', 39: 'bottle', 40: 'wine glass', 41: 'cup', 42: 'fork', 43: 'knife', 44: 'spoon', 45: 'bowl', 46: 'banana', 47: 'apple', 48: 'sandwich', 49: 'orange', 50: 'broccoli', 51: 'carrot', 52: 'hot dog', 53: 'pizza', 54: 'donut', 55: 'cake', 56: 'chair', 57: 'couch', 58: 'potted plant', 59: 'bed', 60: 'dining table', 61: 'toilet', 62: 'tv', 63: 'laptop', 64: 'mouse', 65: 'remote', 66: 'keyboard', 67: 'cell phone', 68: 'microwave', 69: 'oven', 70: 'toaster', 71: 'sink', 72: 'refrigerator', 73: 'book', 74: 'clock', 75: 'vase', 76: 'scissors', 77: 'teddy bear', 78: 'hair drier', 79: 'toothbrush'}\n",
       " obb: None\n",
       " orig_img: array([[[255, 255, 255],\n",
       "         [255, 255, 255],\n",
       "         [255, 255, 255],\n",
       "         ...,\n",
       "         [255, 255, 255],\n",
       "         [255, 255, 255],\n",
       "         [255, 255, 255]],\n",
       " \n",
       "        [[255, 255, 255],\n",
       "         [255, 255, 255],\n",
       "         [255, 255, 255],\n",
       "         ...,\n",
       "         [255, 255, 255],\n",
       "         [255, 255, 255],\n",
       "         [255, 255, 255]],\n",
       " \n",
       "        [[255, 255, 255],\n",
       "         [255, 255, 255],\n",
       "         [255, 255, 255],\n",
       "         ...,\n",
       "         [255, 255, 255],\n",
       "         [255, 255, 255],\n",
       "         [255, 255, 255]],\n",
       " \n",
       "        ...,\n",
       " \n",
       "        [[150, 159, 202],\n",
       "         [152, 161, 204],\n",
       "         [151, 160, 203],\n",
       "         ...,\n",
       "         [138, 155, 198],\n",
       "         [139, 156, 199],\n",
       "         [139, 156, 199]],\n",
       " \n",
       "        [[150, 159, 202],\n",
       "         [152, 161, 204],\n",
       "         [151, 160, 203],\n",
       "         ...,\n",
       "         [138, 155, 198],\n",
       "         [138, 155, 198],\n",
       "         [138, 155, 198]],\n",
       " \n",
       "        [[150, 159, 202],\n",
       "         [152, 161, 204],\n",
       "         [151, 160, 203],\n",
       "         ...,\n",
       "         [137, 154, 197],\n",
       "         [138, 155, 198],\n",
       "         [138, 155, 198]]], dtype=uint8)\n",
       " orig_shape: (341, 512)\n",
       " path: 'c:\\\\mygit\\\\wn7_dl_rep\\\\sample.jpg'\n",
       " probs: None\n",
       " save_dir: 'runs\\\\detect\\\\predict'\n",
       " speed: {'preprocess': 2.4726999981794506, 'inference': 53.04759999853559, 'postprocess': 62.4995999969542}]"
      ]
     },
     "execution_count": 1,
     "metadata": {},
     "output_type": "execute_result"
    }
   ],
   "source": [
    "from ultralytics import YOLO\n",
    "\n",
    "model = YOLO(\"yolov8n.pt\")\n",
    "result = model(\"sample.jpg\")\n",
    "result"
   ]
  },
  {
   "cell_type": "code",
   "execution_count": 2,
   "id": "3559c010",
   "metadata": {},
   "outputs": [
    {
     "name": "stdout",
     "output_type": "stream",
     "text": [
      "\n",
      "image 1/1 c:\\mygit\\wn7_dl_rep\\sample.jpg: 448x640 3 persons, 4.1ms\n",
      "Speed: 2.0ms preprocess, 4.1ms inference, 2.9ms postprocess per image at shape (1, 3, 448, 640)\n"
     ]
    },
    {
     "data": {
      "text/plain": [
       "ultralytics.engine.results.Boxes object with attributes:\n",
       "\n",
       "cls: tensor([0., 0., 0.], device='cuda:0')\n",
       "conf: tensor([0.8858, 0.7034, 0.4414], device='cuda:0')\n",
       "data: tensor([[4.7904e-01, 1.1765e+02, 1.9587e+02, 3.3539e+02, 8.8575e-01, 0.0000e+00],\n",
       "        [3.3984e+02, 1.6228e+02, 5.1162e+02, 3.3643e+02, 7.0340e-01, 0.0000e+00],\n",
       "        [1.9546e+02, 8.1807e-01, 3.9263e+02, 2.1759e+02, 4.4140e-01, 0.0000e+00]], device='cuda:0')\n",
       "id: None\n",
       "is_track: False\n",
       "orig_shape: (341, 512)\n",
       "shape: torch.Size([3, 6])\n",
       "xywh: tensor([[ 98.1752, 226.5192, 195.3923, 217.7357],\n",
       "        [425.7308, 249.3577, 171.7775, 174.1464],\n",
       "        [294.0422, 109.2062, 197.1669, 216.7762]], device='cuda:0')\n",
       "xywhn: tensor([[0.1917, 0.6643, 0.3816, 0.6385],\n",
       "        [0.8315, 0.7313, 0.3355, 0.5107],\n",
       "        [0.5743, 0.3203, 0.3851, 0.6357]], device='cuda:0')\n",
       "xyxy: tensor([[4.7904e-01, 1.1765e+02, 1.9587e+02, 3.3539e+02],\n",
       "        [3.3984e+02, 1.6228e+02, 5.1162e+02, 3.3643e+02],\n",
       "        [1.9546e+02, 8.1807e-01, 3.9263e+02, 2.1759e+02]], device='cuda:0')\n",
       "xyxyn: tensor([[9.3563e-04, 3.4502e-01, 3.8256e-01, 9.8354e-01],\n",
       "        [6.6375e-01, 4.7591e-01, 9.9926e-01, 9.8660e-01],\n",
       "        [3.8176e-01, 2.3990e-03, 7.6685e-01, 6.3811e-01]], device='cuda:0')"
      ]
     },
     "execution_count": 2,
     "metadata": {},
     "output_type": "execute_result"
    }
   ],
   "source": [
    "# 바운딩박스, 라벨 출력\n",
    "result = model('sample.jpg')\n",
    "result[0].boxes"
   ]
  },
  {
   "cell_type": "code",
   "execution_count": 3,
   "id": "fcd6143d",
   "metadata": {},
   "outputs": [
    {
     "data": {
      "text/plain": [
       "array([[[255, 255, 255],\n",
       "        [255, 255, 255],\n",
       "        [255, 255, 255],\n",
       "        ...,\n",
       "        [255, 255, 255],\n",
       "        [255, 255, 255],\n",
       "        [255, 255, 255]],\n",
       "\n",
       "       [[255, 255, 255],\n",
       "        [255, 255, 255],\n",
       "        [255, 255, 255],\n",
       "        ...,\n",
       "        [255, 255, 255],\n",
       "        [255, 255, 255],\n",
       "        [255, 255, 255]],\n",
       "\n",
       "       [[255, 255, 255],\n",
       "        [255, 255, 255],\n",
       "        [255, 255, 255],\n",
       "        ...,\n",
       "        [255, 255, 255],\n",
       "        [255, 255, 255],\n",
       "        [255, 255, 255]],\n",
       "\n",
       "       ...,\n",
       "\n",
       "       [[150, 159, 202],\n",
       "        [152, 161, 204],\n",
       "        [151, 160, 203],\n",
       "        ...,\n",
       "        [138, 155, 198],\n",
       "        [139, 156, 199],\n",
       "        [139, 156, 199]],\n",
       "\n",
       "       [[150, 159, 202],\n",
       "        [152, 161, 204],\n",
       "        [151, 160, 203],\n",
       "        ...,\n",
       "        [138, 155, 198],\n",
       "        [138, 155, 198],\n",
       "        [138, 155, 198]],\n",
       "\n",
       "       [[150, 159, 202],\n",
       "        [152, 161, 204],\n",
       "        [151, 160, 203],\n",
       "        ...,\n",
       "        [137, 154, 197],\n",
       "        [138, 155, 198],\n",
       "        [138, 155, 198]]], dtype=uint8)"
      ]
     },
     "execution_count": 3,
     "metadata": {},
     "output_type": "execute_result"
    }
   ],
   "source": [
    "import cv2\n",
    "img = cv2.imread('sample.jpg')\n",
    "img"
   ]
  },
  {
   "cell_type": "code",
   "execution_count": null,
   "id": "dc1489af",
   "metadata": {},
   "outputs": [
    {
     "data": {
      "text/plain": [
       "True"
      ]
     },
     "execution_count": 4,
     "metadata": {},
     "output_type": "execute_result"
    }
   ],
   "source": [
    "for box in result[0].boxes:\n",
    "    class_id = box.cls[0]\n",
    "    class_name = model.names[class_id.item()]\n",
    "    \n",
    "    # 신뢰도 점수\n",
    "    conf = float(box.conf[0])\n",
    "\n",
    "    # 바운딩 박스\n",
    "    coords = box.xyxy[0].tolist()\n",
    "    x1,y1,x2,y2 = map(int, coords)\n",
    "    cv2.rectangle(img, (x1,y1), (x2,y2), (0,255,0), 2)\n",
    "    cv2.putText(img, f'{class_name} {conf:.4f}', (x1, y1-10), \n",
    "                cv2.FONT_HERSHEY_PLAIN,\n",
    "                1, (0, 255, 0), 1)\n",
    "    \n",
    "# end-for\n",
    "cv2.imshow('yolov8 object detection', img)\n",
    "cv2.waitKey(0)\n",
    "cv2.destroyAllWindows()\n",
    "cv2.imwrite('detect_result.jpg', img)"
   ]
  },
  {
   "cell_type": "markdown",
   "id": "2eef2260",
   "metadata": {},
   "source": [
    "# segmentation"
   ]
  },
  {
   "cell_type": "code",
   "execution_count": null,
   "id": "b50c67ba",
   "metadata": {},
   "outputs": [
    {
     "name": "stdout",
     "output_type": "stream",
     "text": [
      "\n",
      "image 1/1 c:\\mygit\\wn7_dl_rep\\cat.jpg: 448x640 4 cats, 11.8ms\n",
      "Speed: 2.1ms preprocess, 11.8ms inference, 10.1ms postprocess per image at shape (1, 3, 448, 640)\n"
     ]
    },
    {
     "data": {
      "text/plain": [
       "False"
      ]
     },
     "execution_count": 5,
     "metadata": {},
     "output_type": "execute_result"
    }
   ],
   "source": [
    "from ultralytics import YOLO\n",
    "\n",
    "model = YOLO('yolov8n-seg.pt')\n",
    "result = model('cat.jpg')\n",
    "result[0].show()"
   ]
  },
  {
   "cell_type": "code",
   "execution_count": null,
   "id": "836c3b41",
   "metadata": {},
   "outputs": [
    {
     "data": {
      "text/plain": [
       "True"
      ]
     },
     "execution_count": 6,
     "metadata": {},
     "output_type": "execute_result"
    }
   ],
   "source": [
    "import numpy as np\n",
    "\n",
    "img_new = cv2.imread('cat.jpg')\n",
    "overlay = img_new.copy() # 마스크용\n",
    "\n",
    "for box, mask in zip(result[0].boxes, result[0].masks):\n",
    "    # 마스크\n",
    "    polygon = mask.xy[0].astype(np.int32)\n",
    "    cv2.fillPoly(overlay, [polygon], (0,255,0)) # 다각형을 그려줌\n",
    "    \n",
    "    class_id = box.cls[0]\n",
    "    class_name = model.names[class_id.item()]\n",
    "    \n",
    "    # 신뢰도점수\n",
    "    conf = float(box.conf[0])\n",
    "    \n",
    "    # 바운딩 박스\n",
    "    coords = box.xyxy[0].tolist()\n",
    "    x1, y1, x2, y2 = map(int, coords)\n",
    "    cv2.rectangle(img_new, (x1,y1), (x2,y2), (0,255,0), 2)\n",
    "    cv2.putText(img_new, f'{class_name} {conf:.4f}', (x1,y1-10), cv2.FONT_HERSHEY_PLAIN, 1, (0,255,0), 1)\n",
    "    \n",
    "# img + overlay 겹쳐서 출력\n",
    "alpha = 0.5\n",
    "final_img = cv2.addWeighted(overlay, alpha, img_new, 1-alpha, 0)\n",
    "\n",
    "# 최종출력\n",
    "cv2.imshow('yolo8 object detection', final_img)\n",
    "cv2.waitKey(0)\n",
    "cv2.destroyAllWindows()\n",
    "cv2.imwrite('final_result.jpg', final_img)"
   ]
  },
  {
   "cell_type": "markdown",
   "id": "f8b96fb8",
   "metadata": {},
   "source": [
    "# 분류 (생략)\n",
    "# 자세"
   ]
  },
  {
   "cell_type": "code",
   "execution_count": 7,
   "id": "aa920237",
   "metadata": {},
   "outputs": [
    {
     "name": "stdout",
     "output_type": "stream",
     "text": [
      "\n",
      "image 1/1 c:\\mygit\\wn7_dl_rep\\people.jpg: 448x640 8 persons, 14.0ms\n",
      "Speed: 1.5ms preprocess, 14.0ms inference, 6.3ms postprocess per image at shape (1, 3, 448, 640)\n"
     ]
    },
    {
     "data": {
      "text/plain": [
       "True"
      ]
     },
     "execution_count": 7,
     "metadata": {},
     "output_type": "execute_result"
    }
   ],
   "source": [
    "from ultralytics import YOLO\n",
    "\n",
    "pose_model = YOLO('yolov8n-pose.pt')\n",
    "pose_result = pose_model('people.jpg')\n",
    "img = cv2.imread('people.jpg')\n",
    "\n",
    "kp = pose_result[0].keypoints\n",
    "\n",
    "for man_kp in kp:\n",
    "    for x,y in man_kp.xy[0]:\n",
    "        if x > 0 and y > 0:\n",
    "            cv2.circle(img, (int(x), int(y)), 3, (255,0,0), -1)\n",
    "\n",
    "cv2.imshow('yolov8n-pose.pt', img)\n",
    "cv2.waitKey(0)\n",
    "cv2.destroyAllWindows()\n",
    "cv2.imwrite('pose_result.jpg', img)"
   ]
  },
  {
   "cell_type": "code",
   "execution_count": 8,
   "id": "a547081f",
   "metadata": {},
   "outputs": [
    {
     "name": "stdout",
     "output_type": "stream",
     "text": [
      "\n",
      "image 1/1 c:\\mygit\\wn7_dl_rep\\me.jpg: 640x512 1 person, 37.3ms\n",
      "Speed: 3.7ms preprocess, 37.3ms inference, 2.0ms postprocess per image at shape (1, 3, 640, 512)\n"
     ]
    },
    {
     "data": {
      "text/plain": [
       "True"
      ]
     },
     "execution_count": 8,
     "metadata": {},
     "output_type": "execute_result"
    }
   ],
   "source": [
    "from ultralytics import YOLO\n",
    "\n",
    "pose_model = YOLO('yolov8n-pose.pt')\n",
    "pose_result = pose_model('me.jpg')\n",
    "img = cv2.imread('me.jpg')\n",
    "\n",
    "kp = pose_result[0].keypoints\n",
    "\n",
    "for man_kp in kp:\n",
    "    for x,y in man_kp.xy[0]:\n",
    "        if x > 0 and y > 0:\n",
    "            cv2.circle(img, (int(x), int(y)), 3, (255,0,0), -1)\n",
    "\n",
    "cv2.imshow('yolov8n-pose.pt', img)\n",
    "cv2.waitKey(0)\n",
    "cv2.destroyAllWindows()\n",
    "cv2.imwrite('my_pose_result.jpg', img)"
   ]
  },
  {
   "cell_type": "code",
   "execution_count": null,
   "id": "2a05371c",
   "metadata": {},
   "outputs": [],
   "source": []
  },
  {
   "cell_type": "code",
   "execution_count": null,
   "id": "4e1c9b7e",
   "metadata": {},
   "outputs": [],
   "source": []
  }
 ],
 "metadata": {
  "kernelspec": {
   "display_name": "torch_cuda_yolo_env",
   "language": "python",
   "name": "python3"
  },
  "language_info": {
   "codemirror_mode": {
    "name": "ipython",
    "version": 3
   },
   "file_extension": ".py",
   "mimetype": "text/x-python",
   "name": "python",
   "nbconvert_exporter": "python",
   "pygments_lexer": "ipython3",
   "version": "3.10.18"
  }
 },
 "nbformat": 4,
 "nbformat_minor": 5
}
